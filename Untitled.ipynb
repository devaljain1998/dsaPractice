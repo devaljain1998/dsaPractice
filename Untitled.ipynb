{
 "cells": [
  {
   "cell_type": "code",
   "execution_count": 1,
   "metadata": {},
   "outputs": [],
   "source": [
    "import re\n",
    "\n",
    "keyword_pattern = 'and|as|assert|break|class|continue|def|del|elif|else|except|exec|finally|for|from|global|if|import|in|is|lambda|not|or|pass|print|raise|return|try|while|with|yield'\n",
    "identifier_pattern = '[_a-zA-Z]+([0-9][_a-zA-Z])*'\n",
    "\n",
    "keywords, identifiers = set(), set()\n",
    "\n",
    "keyword_regex = re.compile(keyword_pattern)\n",
    "identifier_regex = re.compile(identifier_pattern)"
   ]
  },
  {
   "cell_type": "code",
   "execution_count": 2,
   "metadata": {},
   "outputs": [
    {
     "data": {
      "text/plain": [
       "set()"
      ]
     },
     "execution_count": 2,
     "metadata": {},
     "output_type": "execute_result"
    }
   ],
   "source": [
    "keywords"
   ]
  },
  {
   "cell_type": "code",
   "execution_count": 3,
   "metadata": {},
   "outputs": [],
   "source": [
    "test_file = '# Python program to demonstrate insert operation in binary search tree \\n\\n# A utility class that represents an individual node in a BST \\nclass Node: \\n\\tdef __init__(self,key): \\n\\t\\tself.left = None\\n\\t\\tself.right = None\\n\\t\\tself.val = key \\n\\n# A utility function to insert a new node with the given key \\ndef insert(root,node): \\n\\tif root is None: \\n\\t\\troot = node \\n\\telse: \\n\\t\\tif root.val < node.val: \\n\\t\\t\\tif root.right is None: \\n\\t\\t\\t\\troot.right = node \\n\\t\\t\\telse: \\n\\t\\t\\t\\tinsert(root.right, node) \\n\\t\\telse: \\n\\t\\t\\tif root.left is None: \\n\\t\\t\\t\\troot.left = node \\n\\t\\t\\telse: \\n\\t\\t\\t\\tinsert(root.left, node) \\n\\n# A utility function to do inorder tree traversal \\ndef inorder(root): \\n\\tif root: \\n\\t\\tinorder(root.left) \\n\\t\\tprint(root.val) \\n\\t\\tinorder(root.right) \\n\\n\\n# Driver program to test the above functions \\n# Let us create the following BST \\n#\\t 50 \\n# /\\t \\\\ \\n# 30\\t 70 \\n# / \\\\ / \\\\ \\n# 20 40 60 80 \\nr = Node(50) \\ninsert(r,Node(30)) \\ninsert(r,Node(20)) \\ninsert(r,Node(40)) \\ninsert(r,Node(70)) \\ninsert(r,Node(60)) \\ninsert(r,Node(80)) \\n\\n# Print inoder traversal of the BST \\ninorder(r) \\n\\n# This code is contributed by Bhavya Jain \\n'\n",
    "test_file = test_file.split()"
   ]
  },
  {
   "cell_type": "code",
   "execution_count": 4,
   "metadata": {},
   "outputs": [],
   "source": [
    "for word in test_file:\n",
    "    if keyword_regex.match(word):\n",
    "        keywords.add(word)\n",
    "    elif identifier_regex.match(word):\n",
    "        identifiers.add(word)"
   ]
  },
  {
   "cell_type": "code",
   "execution_count": 5,
   "metadata": {},
   "outputs": [
    {
     "data": {
      "text/plain": [
       "{'class',\n",
       " 'def',\n",
       " 'else:',\n",
       " 'if',\n",
       " 'in',\n",
       " 'individual',\n",
       " 'inoder',\n",
       " 'inorder',\n",
       " 'inorder(r)',\n",
       " 'inorder(root):',\n",
       " 'inorder(root.left)',\n",
       " 'inorder(root.right)',\n",
       " 'insert',\n",
       " 'insert(r,Node(20))',\n",
       " 'insert(r,Node(30))',\n",
       " 'insert(r,Node(40))',\n",
       " 'insert(r,Node(60))',\n",
       " 'insert(r,Node(70))',\n",
       " 'insert(r,Node(80))',\n",
       " 'insert(root,node):',\n",
       " 'insert(root.left,',\n",
       " 'insert(root.right,',\n",
       " 'is',\n",
       " 'print(root.val)',\n",
       " 'with'}"
      ]
     },
     "execution_count": 5,
     "metadata": {},
     "output_type": "execute_result"
    }
   ],
   "source": [
    "keywords"
   ]
  },
  {
   "cell_type": "code",
   "execution_count": 6,
   "metadata": {},
   "outputs": [
    {
     "data": {
      "text/plain": [
       "{'A',\n",
       " 'BST',\n",
       " 'Bhavya',\n",
       " 'Driver',\n",
       " 'Jain',\n",
       " 'Let',\n",
       " 'Node(50)',\n",
       " 'Node:',\n",
       " 'None',\n",
       " 'None:',\n",
       " 'Print',\n",
       " 'Python',\n",
       " 'This',\n",
       " '__init__(self,key):',\n",
       " 'a',\n",
       " 'above',\n",
       " 'an',\n",
       " 'binary',\n",
       " 'by',\n",
       " 'code',\n",
       " 'contributed',\n",
       " 'create',\n",
       " 'demonstrate',\n",
       " 'do',\n",
       " 'following',\n",
       " 'function',\n",
       " 'functions',\n",
       " 'given',\n",
       " 'key',\n",
       " 'new',\n",
       " 'node',\n",
       " 'node)',\n",
       " 'node.val:',\n",
       " 'of',\n",
       " 'operation',\n",
       " 'program',\n",
       " 'r',\n",
       " 'represents',\n",
       " 'root',\n",
       " 'root.left',\n",
       " 'root.right',\n",
       " 'root.val',\n",
       " 'root:',\n",
       " 'search',\n",
       " 'self.left',\n",
       " 'self.right',\n",
       " 'self.val',\n",
       " 'test',\n",
       " 'that',\n",
       " 'the',\n",
       " 'to',\n",
       " 'traversal',\n",
       " 'tree',\n",
       " 'us',\n",
       " 'utility'}"
      ]
     },
     "execution_count": 6,
     "metadata": {},
     "output_type": "execute_result"
    }
   ],
   "source": [
    "identifiers"
   ]
  },
  {
   "cell_type": "code",
   "execution_count": null,
   "metadata": {},
   "outputs": [],
   "source": []
  }
 ],
 "metadata": {
  "kernelspec": {
   "display_name": "Python 2",
   "language": "python",
   "name": "python2"
  },
  "language_info": {
   "codemirror_mode": {
    "name": "ipython",
    "version": 2
   },
   "file_extension": ".py",
   "mimetype": "text/x-python",
   "name": "python",
   "nbconvert_exporter": "python",
   "pygments_lexer": "ipython2",
   "version": "2.7.15+"
  }
 },
 "nbformat": 4,
 "nbformat_minor": 2
}
